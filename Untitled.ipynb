{
 "cells": [
  {
   "cell_type": "code",
   "execution_count": 3,
   "metadata": {},
   "outputs": [
    {
     "ename": "ModuleNotFoundError",
     "evalue": "No module named 'torchvision'",
     "output_type": "error",
     "traceback": [
      "\u001b[1;31m---------------------------------------------------------------------------\u001b[0m",
      "\u001b[1;31mModuleNotFoundError\u001b[0m                       Traceback (most recent call last)",
      "\u001b[1;32m<ipython-input-3-3169c9acd02a>\u001b[0m in \u001b[0;36m<module>\u001b[1;34m()\u001b[0m\n\u001b[0;32m      4\u001b[0m \u001b[1;32mimport\u001b[0m \u001b[0mrequests\u001b[0m\u001b[1;33m\u001b[0m\u001b[0m\n\u001b[0;32m      5\u001b[0m \u001b[1;32mimport\u001b[0m \u001b[0mpandas\u001b[0m \u001b[1;32mas\u001b[0m \u001b[0mpd\u001b[0m\u001b[1;33m\u001b[0m\u001b[0m\n\u001b[1;32m----> 6\u001b[1;33m \u001b[1;32mfrom\u001b[0m \u001b[0mtorchvision\u001b[0m \u001b[1;32mimport\u001b[0m \u001b[0mmodels\u001b[0m\u001b[1;33m\u001b[0m\u001b[0m\n\u001b[0m\u001b[0;32m      7\u001b[0m \u001b[1;32mfrom\u001b[0m \u001b[0mtorchvision\u001b[0m \u001b[1;32mimport\u001b[0m \u001b[0mtransforms\u001b[0m \u001b[1;32mas\u001b[0m \u001b[0mT\u001b[0m\u001b[1;33m\u001b[0m\u001b[0m\n\u001b[0;32m      8\u001b[0m \u001b[1;32mimport\u001b[0m \u001b[0mmatplotlib\u001b[0m\u001b[1;33m.\u001b[0m\u001b[0mpyplot\u001b[0m \u001b[1;32mas\u001b[0m \u001b[0mplt\u001b[0m\u001b[1;33m\u001b[0m\u001b[0m\n",
      "\u001b[1;31mModuleNotFoundError\u001b[0m: No module named 'torchvision'"
     ]
    }
   ],
   "source": [
    "import json\n",
    "import PIL\n",
    "from PIL import Image\n",
    "import requests\n",
    "import pandas as pd\n",
    "from torchvision import models\n",
    "from torchvision import transforms as T\n",
    "import matplotlib.pyplot as plt\n",
    "import cv2"
   ]
  },
  {
   "cell_type": "code",
   "execution_count": null,
   "metadata": {},
   "outputs": [],
   "source": [
    "\n",
    "with open('data/Batch2__Marseille_01frame801.jpg.json') as test_json:\n",
    "    données = json.load(test_json)\n",
    "\n",
    "\n",
    "    \n",
    "    \n",
    "\n",
    "def blue_heat(img): ## met la heatmap en bleu a part les endroits rougis par un ouvrier\n",
    "    (Width, Height) = img.size\n",
    "    for i in range(Width):\n",
    "        for j in range(Height):\n",
    "            (r, g, b) = img.getpixel((i, j))\n",
    "            if r != 255:\n",
    "                (r, g, b) = (r, g, 255)\n",
    "                img.putpixel((i, j), (r, g, b))\n",
    "    return img\n",
    "\n",
    "\n",
    "def red_heat(img, i_1, i_2, j_1, j_2): # on a les coordonnees du rectangle a colorier en rouge qui montre un ouvrier\n",
    "    for i in range(i_1, i_2+1):\n",
    "        for j in range(j_1, j_2 + 1):\n",
    "            (r, g, b) = img.getpixel((i, j))\n",
    "            (r, g, b) = (255, g, b)\n",
    "            img.putpixel((i, j), (r, g, b))\n",
    "    return img\n",
    "\n",
    "\n",
    "\n",
    "\n",
    "def recup_json(img, données):\n",
    "    l = []\n",
    "    for x in données[\"objects\"]:\n",
    "        if x[\"classTitle\"] == 'People':\n",
    "            l.append(x[\"points\"][\"exterior\"])\n",
    "    for x in l:\n",
    "        img=red_heat(img,x[0][0],x[1][0],x[0][1],x[1][1])\n",
    "    img = blue_heat(img)\n",
    "    plt.figure(figsize=(20, 30))  # display the output image\n",
    "    plt.imshow(img)\n",
    "    plt.xticks([])\n",
    "    plt.yticks([])\n",
    "    plt.show()\n",
    "\n",
    "\n",
    "img1 = Image.open(\"data/Batch2__Marseille_01frame801.jpg\")\n",
    "recup_json(img1,données)"
   ]
  },
  {
   "cell_type": "code",
   "execution_count": null,
   "metadata": {},
   "outputs": [],
   "source": []
  }
 ],
 "metadata": {
  "kernelspec": {
   "display_name": "Python 3",
   "language": "python",
   "name": "python3"
  },
  "language_info": {
   "codemirror_mode": {
    "name": "ipython",
    "version": 3
   },
   "file_extension": ".py",
   "mimetype": "text/x-python",
   "name": "python",
   "nbconvert_exporter": "python",
   "pygments_lexer": "ipython3",
   "version": "3.6.6"
  }
 },
 "nbformat": 4,
 "nbformat_minor": 2
}
